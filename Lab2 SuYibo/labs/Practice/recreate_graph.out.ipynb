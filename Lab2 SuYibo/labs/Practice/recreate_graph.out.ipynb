{
  "cells": [
    {
      "cell_type": "markdown",
      "metadata": {},
      "source": [
        "#"
      ],
      "id": "2af74b4f-d8e5-43f2-a2d0-97a518da611e"
    },
    {
      "cell_type": "code",
      "execution_count": 17,
      "metadata": {},
      "outputs": [],
      "source": [
        "import pandas as pd\n",
        "import matplotlib as mpl\n",
        "import matplotlib.pyplot as plt\n",
        "import numpy as np\n",
        "from pathlib import Path\n",
        "import pingouin as pg\n",
        "from lets_plot import *\n",
        "\n",
        "LetsPlot.setup_html(no_js=True)"
      ],
      "id": "cell-0"
    },
    {
      "cell_type": "code",
      "execution_count": null,
      "metadata": {},
      "outputs": [],
      "source": [
        "\n",
        "\n",
        "read_file = pd.read_excel (\"D:\\360MoveData\\Users\\75903\\Desktop\\SuYibo-Homework\\Practice2 SuYibo/Public-goods-experimental-data.xlsx\") \n",
        "\n",
        "read_file.to_csv (\"Public-goods-experimental-data.csv\", \n",
        "                index = None, \n",
        "                header=True) \n",
        "    \n",
        "\n",
        "df = pd.DataFrame(pd.read_csv(\"Public-goods-experimental-data.csv\")) \n"
      ],
      "id": "cell-1"
    },
    {
      "cell_type": "code",
      "execution_count": 19,
      "metadata": {},
      "outputs": [
        {
          "output_type": "display_data",
          "metadata": {},
          "data": {
            "text/html": [
              "\n",
              "</div>"
            ]
          }
        }
      ],
      "source": [
        "df.head()"
      ],
      "id": "cell-2"
    }
  ],
  "nbformat": 4,
  "nbformat_minor": 5,
  "metadata": {
    "kernelspec": {
      "name": "python3",
      "display_name": ".venv",
      "language": "python"
    },
    "language_info": {
      "name": "python",
      "codemirror_mode": {
        "name": "ipython",
        "version": "3"
      },
      "file_extension": ".py",
      "mimetype": "text/x-python",
      "nbconvert_exporter": "python",
      "pygments_lexer": "ipython3",
      "version": "3.10.7"
    }
  }
}